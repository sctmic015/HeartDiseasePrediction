{
 "cells": [
  {
   "cell_type": "code",
   "execution_count": null,
   "metadata": {},
   "outputs": [],
   "source": [
    "# Heart Disease Prediction"
   ]
  },
  {
   "cell_type": "code",
   "execution_count": null,
   "outputs": [],
   "source": [
    "import matplotlib.pyplot as plt\n",
    "import pandas as pd\n",
    "import pyAgrum as gum\n",
    "import pyAgrum.lib.notebook as gnb\n",
    "from imblearn.under_sampling import RandomUnderSampler"
   ],
   "metadata": {
    "collapsed": false
   }
  },
  {
   "cell_type": "code",
   "execution_count": null,
   "metadata": {},
   "outputs": [],
   "source": [
    "# Read in data and treat to reduce categorical size\n",
    "data = pd.read_csv(\"heart_2020_original.csv\")\n",
    "\n",
    "# Functions to reduce category sizes\n",
    "def disDiabetes(data):\n",
    "    diab = (data[\"Diabetic\"])\n",
    "    if diab[0] == \"Y\":\n",
    "        return \"Yes\"\n",
    "    else:\n",
    "        return \"No\"\n",
    "\n",
    "def disAge(data):\n",
    "    age = data[\"AgeCategory\"]\n",
    "    if age == \"18-24\" or age == \"25-29\" or age == \"30-34\" or age == \"35-39\":\n",
    "        return \"18-39\"\n",
    "    elif age == \"40-44\" or age == \"45-49\" or age == \"50-54\" or age == \"55-59\":\n",
    "        return \"40-59\"\n",
    "    else:\n",
    "        return \"60 or older\"\n",
    "\n",
    "def treat(data):\n",
    "    # Remove unused columns\n",
    "    data.drop([\"SkinCancer\"], axis=1, inplace=True)\n",
    "    data.drop([\"Race\"], axis=1, inplace=True)\n",
    "\n",
    "    # Adjust value representation\n",
    "    data[\"Diabetic\"] = data.apply(disDiabetes, axis=1)\n",
    "    data[\"AgeCategory\"] = data.apply(disAge, axis=1)\n",
    "\n",
    "treat(data)"
   ]
  },
  {
   "cell_type": "code",
   "execution_count": null,
   "metadata": {},
   "outputs": [],
   "source": [
    "# Split data for training and testing\n",
    "train_data = data.sample(frac=0.75, random_state=21)\n",
    "test_data = data.drop(train_data.index)\n",
    "\n",
    "# Get heart disease distribution\n",
    "data[\"HeartDisease\"].value_counts(normalize=True)\n",
    "\n",
    "# Only 8.5% target heart disease so use undersampling for a better model\n",
    "rus = RandomUnderSampler(random_state=21)\n",
    "X_train_data_us, Y_train_data_us = rus.fit_resample(train_data.drop([\"HeartDisease\"], axis=1), train_data[\"HeartDisease\"])\n",
    "\n",
    "# Merge undersampled data for ease of reading with CSV\n",
    "train_data_us = pd.concat([Y_train_data_us, X_train_data_us], axis=1)\n",
    "\n",
    "# Output CSVs for loading in BN\n",
    "train_data_us.to_csv(\"heart_train.csv\", index=False)\n",
    "#train_data.to_csv(\"heart_train.csv\", index=False)\n",
    "test_data.to_csv(\"heart_test.csv\", index=False)"
   ]
  },
  {
   "cell_type": "markdown",
   "source": [
    "## EDA"
   ],
   "metadata": {
    "collapsed": false
   }
  },
  {
   "cell_type": "code",
   "execution_count": null,
   "outputs": [
    {
     "ename": "NameError",
     "evalue": "name 'train_data_us' is not defined",
     "output_type": "error",
     "traceback": [
      "\u001B[1;31m---------------------------------------------------------------------------\u001B[0m",
      "\u001B[1;31mNameError\u001B[0m                                 Traceback (most recent call last)",
      "Cell \u001B[1;32mIn [1], line 5\u001B[0m\n\u001B[0;32m      2\u001B[0m \u001B[38;5;28;01mfrom\u001B[39;00m \u001B[38;5;21;01mphik\u001B[39;00m\u001B[38;5;21;01m.\u001B[39;00m\u001B[38;5;21;01mreport\u001B[39;00m \u001B[38;5;28;01mimport\u001B[39;00m plot_correlation_matrix\n\u001B[0;32m      3\u001B[0m \u001B[38;5;28;01mfrom\u001B[39;00m \u001B[38;5;21;01mphik\u001B[39;00m \u001B[38;5;28;01mimport\u001B[39;00m report\n\u001B[1;32m----> 5\u001B[0m phik_overview \u001B[38;5;241m=\u001B[39m train_data_us\u001B[38;5;241m.\u001B[39mphik_matrix()\n\u001B[0;32m      6\u001B[0m phik_overview\u001B[38;5;241m.\u001B[39mround(\u001B[38;5;241m1\u001B[39m)\n\u001B[0;32m      7\u001B[0m plot_correlation_matrix(phik_overview\u001B[38;5;241m.\u001B[39mvalues,\n\u001B[0;32m      8\u001B[0m                         x_labels\u001B[38;5;241m=\u001B[39mphik_overview\u001B[38;5;241m.\u001B[39mcolumns,\n\u001B[0;32m      9\u001B[0m                         y_labels\u001B[38;5;241m=\u001B[39mphik_overview\u001B[38;5;241m.\u001B[39mindex,\n\u001B[1;32m   (...)\u001B[0m\n\u001B[0;32m     12\u001B[0m                         fontsize_factor\u001B[38;5;241m=\u001B[39m\u001B[38;5;241m0.5\u001B[39m,\n\u001B[0;32m     13\u001B[0m                         figsize\u001B[38;5;241m=\u001B[39m(\u001B[38;5;241m10\u001B[39m, \u001B[38;5;241m8\u001B[39m))\n",
      "\u001B[1;31mNameError\u001B[0m: name 'train_data_us' is not defined"
     ]
    }
   ],
   "source": [
    "import phik\n",
    "from phik.report import plot_correlation_matrix\n",
    "from phik import report\n",
    "\n",
    "phik_overview = train_data_us.phik_matrix()\n",
    "phik_overview.round(1)\n",
    "plot_correlation_matrix(phik_overview.values,\n",
    "                        x_labels=phik_overview.columns,\n",
    "                        y_labels=phik_overview.index,\n",
    "                        vmin=0, vmax=1,\n",
    "                        title=r\"correlation $\\phi_K$\",\n",
    "                        fontsize_factor=0.5,\n",
    "                        figsize=(10, 8))\n",
    "plt.tight_layout()\n",
    "plt.savefig(\"corr.png\")"
   ],
   "metadata": {
    "collapsed": false
   }
  },
  {
   "cell_type": "code",
   "execution_count": null,
   "metadata": {},
   "outputs": [],
   "source": [
    "# Define BN topology\n",
    "bn = gum.BayesNet(\"Heart Disease Prediction\")\n",
    "\n",
    "bn.add(gum.LabelizedVariable(\"HeartDisease\", \"HeartDisease\", [\"Yes\", \"No\"]))\n",
    "bn.add(gum.DiscretizedVariable(\"BMI\", \"BMI\").addTick(0).addTick(18.5).addTick(25).addTick(30).addTick(100))\n",
    "bn.add(gum.LabelizedVariable(\"Smoking\", \"Smoking\", [\"Yes\", \"No\"]))\n",
    "bn.add(gum.LabelizedVariable(\"AlcoholDrinking\",\n",
    "       \"AlcoholDrinking\", [\"Yes\", \"No\"]))\n",
    "bn.add(gum.LabelizedVariable(\"Stroke\", \"Stroke\", [\"Yes\", \"No\"]))\n",
    "bn.add(gum.DiscretizedVariable(\"PhysicalHealth\", \"PhysicalHealth\").addTick(0).addTick(1).addTick(10).addTick(30))\n",
    "bn.add(gum.DiscretizedVariable(\"MentalHealth\", \"MentalHealth\").addTick(\n",
    "    0).addTick(1).addTick(10).addTick(30))\n",
    "bn.add(gum.LabelizedVariable(\"DiffWalking\", \"DiffWalking\", [\"Yes\", \"No\"]))\n",
    "bn.add(gum.LabelizedVariable(\"Sex\", \"Sex\", [\"Male\", \"Female\"]))\n",
    "bn.add(gum.LabelizedVariable(\"AgeCategory\", \"AgeCategory\", [\n",
    "       \"18-39\", \"40-59\", \"60 or older\"]))\n",
    "bn.add(gum.LabelizedVariable(\"Diabetic\", \"Diabetic\", [\"Yes\", \"No\"]))\n",
    "bn.add(gum.LabelizedVariable(\"PhysicalActivity\", \"PhysicalActivity\", [\"Yes\", \"No\"]))\n",
    "bn.add(gum.LabelizedVariable(\"GenHealth\", \"GenHealth\", [\"Very good\", \"Good\", \"Excellent\", \"Fair\", \"Poor\"]))\n",
    "bn.add(gum.DiscretizedVariable(\"SleepTime\", \"SleepTime\").addTick(0).addTick(5).addTick(7).addTick(9).addTick(24))\n",
    "bn.add(gum.LabelizedVariable(\"Asthma\", \"Asthma\", [\"Yes\", \"No\"]))\n",
    "bn.add(gum.LabelizedVariable(\"KidneyDisease\", \"KidneyDisease\", [\"Yes\", \"No\"]))\n"
   ]
  },
  {
   "cell_type": "code",
   "execution_count": null,
   "metadata": {},
   "outputs": [],
   "source": [
    "# View nodes added\n",
    "print(bn.variable(\"HeartDisease\"))\n",
    "print(bn.variable(\"BMI\"))\n",
    "print(bn.variable(\"Smoking\"))\n",
    "print(bn.variable(\"AlcoholDrinking\"))\n",
    "print(bn.variable(\"Stroke\"))\n",
    "print(bn.variable(\"PhysicalHealth\"))\n",
    "print(bn.variable(\"MentalHealth\"))\n",
    "print(bn.variable(\"DiffWalking\"))\n",
    "print(bn.variable(\"Sex\"))\n",
    "print(bn.variable(\"AgeCategory\"))\n",
    "print(bn.variable(\"Diabetic\"))\n",
    "print(bn.variable(\"PhysicalActivity\"))\n",
    "print(bn.variable(\"GenHealth\"))\n",
    "print(bn.variable(\"SleepTime\"))\n",
    "print(bn.variable(\"Asthma\"))\n",
    "print(bn.variable(\"KidneyDisease\"))\n",
    "\n",
    "bn"
   ]
  },
  {
   "cell_type": "code",
   "execution_count": null,
   "metadata": {},
   "outputs": [],
   "source": [
    "# Define the BN structure\n",
    "\n",
    "links = [(\"PhysicalActivity\",\"HeartDisease\"),\n",
    "         (\"AgeCategory\",\"PhysicalActivity\"),\n",
    "         (\"AgeCategory\",\"HeartDisease\"),\n",
    "         (\"BMI\", \"PhysicalActivity\"),\n",
    "         (\"BMI\", \"Diabetic\"),\n",
    "         (\"GenHealth\", \"HeartDisease\"),\n",
    "         (\"PhysicalHealth\", \"GenHealth\"),\n",
    "         (\"MentalHealth\", \"GenHealth\"),\n",
    "         (\"SleepTime\", \"GenHealth\"),\n",
    "         (\"BMI\", \"GenHealth\"),\n",
    "         (\"Sex\",\"HeartDisease\"),\n",
    "         (\"Smoking\",\"HeartDisease\"),\n",
    "         (\"AlcoholDrinking\",\"HeartDisease\"),\n",
    "         (\"Diabetic\",\"KidneyDisease\"),\n",
    "         (\"KidneyDisease\",\"HeartDisease\"),\n",
    "         (\"Diabetic\",\"HeartDisease\"),\n",
    "         (\"HeartDisease\",\"DiffWalking\"),\n",
    "         (\"HeartDisease\", \"Stroke\"),\n",
    "         (\"Asthma\",\"DiffWalking\")]\n",
    "\n",
    "for link in links:\n",
    "    bn.addArc(*link)"
   ]
  },
  {
   "cell_type": "code",
   "execution_count": null,
   "metadata": {},
   "outputs": [],
   "source": [
    "# Visualise the network with arcs\n",
    "bn"
   ]
  },
  {
   "cell_type": "code",
   "execution_count": null,
   "metadata": {},
   "outputs": [],
   "source": [
    "# Learn the parameters of the BN\n",
    "learner = gum.BNLearner(\"heart_train.csv\", bn)\n",
    "learner.useSmoothingPrior(2)\n",
    "bn = learner.learnParameters(bn.dag())\n",
    "# Save Model\n",
    "gum.saveBN(bn, \"out2.bifxml\")"
   ]
  },
  {
   "cell_type": "code",
   "execution_count": null,
   "metadata": {},
   "outputs": [],
   "source": [
    "# View learned model\n",
    "gnb.showInference(bn)\n",
    "print(bn.cpt(\"HeartDisease\"))"
   ]
  },
  {
   "cell_type": "code",
   "execution_count": null,
   "metadata": {},
   "outputs": [],
   "source": [
    "# Validate model accuracy\n",
    "\n",
    "from pyAgrum.lib.bn2roc import showROC_PR\n",
    "import pyAgrum.lib.explain as explain\n",
    "\n",
    "explain.showInformation(bn)\n",
    "\n",
    "showROC_PR(bn, \"heart_train.csv\", \"HeartDisease\", \"Yes\", False, True)\n",
    "showROC_PR(bn, \"heart_test.csv\", \"HeartDisease\", \"Yes\", False, True)"
   ]
  },
  {
   "cell_type": "markdown",
   "source": [
    "# Decision Network\n",
    "## Set up\n",
    "Set up Topology and Weights of Decision Network using previous Bayesian Network"
   ],
   "metadata": {
    "collapsed": false
   }
  },
  {
   "cell_type": "code",
   "execution_count": null,
   "outputs": [],
   "source": [
    "# Set up Decision Network\n",
    "dn = gum.loadID(\"out2.bifxml\")\n",
    "dn.addUtilityNode(gum.LabelizedVariable(\"U\", \"U\", 1))\n",
    "dn.addArc(\"HeartDisease\", \"U\")\n",
    "decisionNodes = [\"DecreaseSubstanceUse\", \"GoToDoctor\", \"IncreasePhysicalActivity\"]\n",
    "for node in decisionNodes:\n",
    "    dn.addDecisionNode(gum.LabelizedVariable(node, node, [\"Yes\", \"No\"]))\n",
    "    dn.addArc(node, \"U\")\n",
    "dn"
   ],
   "metadata": {
    "collapsed": false
   }
  },
  {
   "cell_type": "markdown",
   "source": [
    "## Define Utility Function"
   ],
   "metadata": {
    "collapsed": false
   }
  },
  {
   "cell_type": "code",
   "execution_count": null,
   "outputs": [],
   "source": [
    "dn.utility(\"U\")[{\"HeartDisease\": \"Yes\", \"DecreaseSubstanceUse\": \"Yes\", \"GoToDoctor\": \"Yes\", \"IncreasePhysicalActivity\": \"Yes\"}] = 100\n",
    "dn.utility(\"U\")[{\"HeartDisease\": \"Yes\", \"DecreaseSubstanceUse\": \"Yes\", \"GoToDoctor\": \"Yes\", \"IncreasePhysicalActivity\": \"No\"}] = 66\n",
    "dn.utility(\"U\")[{\"HeartDisease\": \"Yes\", \"DecreaseSubstanceUse\": \"Yes\", \"GoToDoctor\": \"No\", \"IncreasePhysicalActivity\": \"Yes\"}] = 66\n",
    "dn.utility(\"U\")[{\"HeartDisease\": \"Yes\", \"DecreaseSubstanceUse\": \"Yes\", \"GoToDoctor\": \"No\", \"IncreasePhysicalActivity\": \"No\"}] = 33\n",
    "dn.utility(\"U\")[{\"HeartDisease\": \"Yes\", \"DecreaseSubstanceUse\": \"No\", \"GoToDoctor\": \"Yes\", \"IncreasePhysicalActivity\": \"Yes\"}] = 33\n",
    "dn.utility(\"U\")[{\"HeartDisease\": \"Yes\", \"DecreaseSubstanceUse\": \"No\", \"GoToDoctor\": \"Yes\", \"IncreasePhysicalActivity\": \"No\"}] = 33\n",
    "dn.utility(\"U\")[{\"HeartDisease\": \"Yes\", \"DecreaseSubstanceUse\": \"No\", \"GoToDoctor\": \"No\", \"IncreasePhysicalActivity\": \"Yes\"}] = 33\n",
    "dn.utility(\"U\")[{\"HeartDisease\": \"Yes\", \"DecreaseSubstanceUse\": \"No\", \"GoToDoctor\": \"No\", \"IncreasePhysicalActivity\": \"No\"}] = 0\n",
    "dn.utility(\"U\")[{\"HeartDisease\": \"No\", \"DecreaseSubstanceUse\": \"Yes\", \"GoToDoctor\": \"Yes\", \"IncreasePhysicalActivity\": \"Yes\"}] = 25\n",
    "dn.utility(\"U\")[{\"HeartDisease\": \"No\", \"DecreaseSubstanceUse\": \"Yes\", \"GoToDoctor\": \"Yes\", \"IncreasePhysicalActivity\": \"No\"}] = 33\n",
    "dn.utility(\"U\")[{\"HeartDisease\": \"No\", \"DecreaseSubstanceUse\": \"Yes\", \"GoToDoctor\": \"No\", \"IncreasePhysicalActivity\": \"Yes\"}] = 33\n",
    "dn.utility(\"U\")[{\"HeartDisease\": \"No\", \"DecreaseSubstanceUse\": \"Yes\", \"GoToDoctor\": \"No\", \"IncreasePhysicalActivity\": \"No\"}] = 16\n",
    "dn.utility(\"U\")[{\"HeartDisease\": \"No\", \"DecreaseSubstanceUse\": \"No\", \"GoToDoctor\": \"Yes\", \"IncreasePhysicalActivity\": \"Yes\"}] = 16\n",
    "dn.utility(\"U\")[{\"HeartDisease\": \"No\", \"DecreaseSubstanceUse\": \"No\", \"GoToDoctor\": \"Yes\", \"IncreasePhysicalActivity\": \"No\"}] = 16\n",
    "dn.utility(\"U\")[{\"HeartDisease\": \"No\", \"DecreaseSubstanceUse\": \"No\", \"GoToDoctor\": \"No\", \"IncreasePhysicalActivity\": \"Yes\"}] = 16\n",
    "dn.utility(\"U\")[{\"HeartDisease\": \"No\", \"DecreaseSubstanceUse\": \"No\", \"GoToDoctor\": \"No\", \"IncreasePhysicalActivity\": \"No\"}] = 0"
   ],
   "metadata": {
    "collapsed": false
   }
  },
  {
   "cell_type": "code",
   "execution_count": null,
   "outputs": [],
   "source": [
    "ie=gum.ShaferShenoyLIMIDInference(dn)\n",
    "try:\n",
    "    ie.makeInference()\n",
    "except gum.GumException as e:\n",
    "    print(e)\n",
    "\n",
    "ie.addNoForgettingAssumption([\"DecreaseSubstanceUse\", \"GoToDoctor\", \"IncreasePhysicalActivity\"])\n",
    "gnb.sideBySide(gnb.getInference(dn,engine=ie, evs={'DecreaseSubstanceUse': 'No'}))"
   ],
   "metadata": {
    "collapsed": false
   }
  },
  {
   "cell_type": "markdown",
   "source": [
    "# Model Testing:\n",
    "## Initial Probability Graph"
   ],
   "metadata": {
    "collapsed": false
   }
  },
  {
   "cell_type": "code",
   "execution_count": null,
   "outputs": [],
   "source": [
    "ie = gum.VariableElimination(bn)\n",
    "gnb.showInference(bn, engine=ie)"
   ],
   "metadata": {
    "collapsed": false
   }
  },
  {
   "cell_type": "markdown",
   "source": [
    "## Examples of Diagnostic Reasoning\n",
    "1) What is the probability that someone is over 60 given that they have Heart Disease"
   ],
   "metadata": {
    "collapsed": false
   }
  },
  {
   "cell_type": "code",
   "execution_count": null,
   "outputs": [],
   "source": [
    "ie.setEvidence({\"HeartDisease\": \"Yes\"})\n",
    "ie.makeInference()\n",
    "print(ie.posterior(\"AgeCategory\")[2])\n",
    "gnb.showPosterior(bn, evs={\"HeartDisease\": \"Yes\"}, target=\"AgeCategory\")\n",
    "#print(gnb.showInference(bn, evs={\"AgeCategory\": \"60 or older\"}, engine=ie))"
   ],
   "metadata": {
    "collapsed": false
   }
  },
  {
   "cell_type": "markdown",
   "source": [
    "2) What is the probability that someone is male given they do not have heart disease and are diabetic"
   ],
   "metadata": {
    "collapsed": false
   }
  },
  {
   "cell_type": "code",
   "execution_count": null,
   "outputs": [],
   "source": [
    "ie.setEvidence({\"HeartDisease\": \"Yes\", \"Diabetic\": \"Yes\"})\n",
    "ie.makeInference()\n",
    "print(ie.posterior(\"Sex\")[0])\n",
    "gnb.showPosterior(bn, evs={\"HeartDisease\": \"Yes\", \"Diabetic\": \"Yes\"}, target=\"Sex\")"
   ],
   "metadata": {
    "collapsed": false
   }
  },
  {
   "cell_type": "markdown",
   "source": [
    "## Example of Casual Reasoning\n",
    "1) Probability that someone has heart disease given they are heavy drinkers with kidney disease"
   ],
   "metadata": {
    "collapsed": false
   }
  },
  {
   "cell_type": "code",
   "execution_count": null,
   "outputs": [],
   "source": [
    "ie.setEvidence({\"KidneyDisease\": \"Yes\", \"AlcoholDrinking\" : \"Yes\"})\n",
    "ie.makeInference\n",
    "print(ie.posterior(\"HeartDisease\")[0])\n",
    "gnb.showPosterior(bn, {\"KidneyDisease\": \"Yes\", \"AlcoholDrinking\" : \"Yes\"}, target=\"HeartDisease\")"
   ],
   "metadata": {
    "collapsed": false
   }
  },
  {
   "cell_type": "markdown",
   "source": [
    "2) Probability that someone has heart disease given that they are over 60 and have difficulty walking"
   ],
   "metadata": {
    "collapsed": false
   }
  },
  {
   "cell_type": "code",
   "execution_count": null,
   "outputs": [],
   "source": [
    "ie.setEvidence({\"AgeCategory\": \"60 or older\", \"DiffWalking\" : \"Yes\"})\n",
    "ie.makeInference()\n",
    "print(ie.posterior(\"HeartDisease\")[0])\n",
    "gnb.showPosterior(bn, {\"AgeCategory\": \"60 or older\", \"DiffWalking\" : \"Yes\"}, target=\"HeartDisease\")"
   ],
   "metadata": {
    "collapsed": false
   }
  },
  {
   "cell_type": "markdown",
   "source": [
    "3) Probability that someone has heart disease given that they are 18-39 and do not smoke"
   ],
   "metadata": {
    "collapsed": false
   }
  },
  {
   "cell_type": "code",
   "execution_count": null,
   "outputs": [],
   "source": [
    "ie.setEvidence({\"AgeCategory\": \"18-39\", \"Smoking\" : \"No\"})\n",
    "ie.makeInference()\n",
    "print(ie.posterior(\"HeartDisease\")[0])\n",
    "gnb.showPosterior(bn, {\"AgeCategory\": \"18-39\", \"Smoking\" : \"No\"}, target=\"HeartDisease\")"
   ],
   "metadata": {
    "collapsed": false
   }
  },
  {
   "cell_type": "markdown",
   "source": [
    "## Decision Networks\n",
    "1) Utility of someone to stop drinking and smoking and go to the doctor given that are over 60 and have difficulty walking"
   ],
   "metadata": {
    "collapsed": false
   }
  },
  {
   "cell_type": "code",
   "execution_count": null,
   "outputs": [],
   "source": [
    "ie=gum.ShaferShenoyLIMIDInference(dn)\n",
    "try:\n",
    "    ie.makeInference()\n",
    "except gum.GumException as e:\n",
    "    print(e)\n",
    "\n",
    "ie.addNoForgettingAssumption([\"DecreaseSubstanceUse\", \"GoToDoctor\", \"IncreasePhysicalActivity\"])\n",
    "#gnb.show(dn.utility(\"U\"))\n",
    "gnb.sideBySide(gnb.getInference(dn,engine=ie, evs={'DecreaseSubstanceUse': 'Yes', \"GoToDoctor\": \"Yes\", \"AgeCategory\": \"60 or older\", \"DiffWalking\" : \"Yes\"}))"
   ],
   "metadata": {
    "collapsed": false
   }
  },
  {
   "cell_type": "markdown",
   "source": [
    "2)Utility of some to increase their physical activity given that they are not diabetic and have excellent general health"
   ],
   "metadata": {
    "collapsed": false
   }
  },
  {
   "cell_type": "code",
   "execution_count": null,
   "outputs": [],
   "source": [
    "gnb.sideBySide(gnb.getInference(dn,engine=ie, evs={'IncreasePhysicalActivity': 'Yes',\"GenHealth\": \"Excellent\", \"Diabetic\" : \"No\"}))"
   ],
   "metadata": {
    "collapsed": false
   }
  }
 ],
 "metadata": {
  "kernelspec": {
   "display_name": "Python 3.10.6 64-bit",
   "language": "python",
   "name": "python3"
  },
  "language_info": {
   "codemirror_mode": {
    "name": "ipython",
    "version": 3
   },
   "file_extension": ".py",
   "mimetype": "text/x-python",
   "name": "python",
   "nbconvert_exporter": "python",
   "pygments_lexer": "ipython3",
   "version": "3.10.6"
  },
  "orig_nbformat": 4,
  "vscode": {
   "interpreter": {
    "hash": "8f9328efe3468e6c370cdfed98702d3986faf748314d5bcec59da615d65baa7a"
   }
  }
 },
 "nbformat": 4,
 "nbformat_minor": 2
}
